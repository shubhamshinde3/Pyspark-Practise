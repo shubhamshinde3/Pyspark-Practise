{
  "nbformat": 4,
  "nbformat_minor": 0,
  "metadata": {
    "colab": {
      "provenance": []
    },
    "kernelspec": {
      "name": "python3",
      "display_name": "Python 3"
    },
    "language_info": {
      "name": "python"
    }
  },
  "cells": [
    {
      "cell_type": "markdown",
      "source": [
        "Calculate the total marks obtained by students in each class.\n",
        "Find the average marks of students by gender.\n",
        "Identify the highest marks scored in each class.\n",
        "Find the lowest marks scored by students in each gender category.\n",
        "Count the number of students in each class.\n",
        "Calculate the total marks by both gender and class.\n",
        "Calculate the total, average, and maximum marks for each class in one query.\n",
        "Find the classes where the total marks exceed 2000.\n",
        "Calculate the total marks across all students.\n",
        "For each class, calculate the percentage of total marks scored compared to the highest marks in that class.\n",
        "Find the genders where the average marks are greater than 450.\n",
        "Calculate the average, minimum, and maximum marks for each combination of gender and class.\n",
        "Identify classes where fewer than 5 students are enrolled.\n",
        "Calculate the percentage of total marks for each class compared to the overall total marks.\n",
        "Determine the number of students in each gender-category within each class.\n",
        "Find the maximum marks scored by any student in each gender-class combination.\n",
        "List classes where the sum of marks exceeds the sum of marks in another class (e.g., Class 10 vs Class 12).\n",
        "Find the total marks scored by students grouped by gender and sorted in descending order of total marks.\n",
        "Determine the difference between the highest and lowest marks in each class.\n",
        "For each class and gender, find the student(s) with the highest marks."
      ],
      "metadata": {
        "id": "_6oNMvP_15sZ"
      }
    },
    {
      "cell_type": "code",
      "source": [
        "from pyspark.sql import SparkSession"
      ],
      "metadata": {
        "id": "xKvZpd_T2B10"
      },
      "execution_count": null,
      "outputs": []
    },
    {
      "cell_type": "code",
      "source": [
        "spark= SparkSession.builder.appName('student-data').getOrCreate()"
      ],
      "metadata": {
        "id": "5ILFbV5c2BpR"
      },
      "execution_count": null,
      "outputs": []
    },
    {
      "cell_type": "code",
      "source": [
        "spark"
      ],
      "metadata": {
        "colab": {
          "base_uri": "https://localhost:8080/",
          "height": 219
        },
        "id": "jy818xnQ2x2o",
        "outputId": "0337f328-9025-41b5-f913-24c98f053de2"
      },
      "execution_count": null,
      "outputs": [
        {
          "output_type": "execute_result",
          "data": {
            "text/plain": [
              "<pyspark.sql.session.SparkSession at 0x7843a5508340>"
            ],
            "text/html": [
              "\n",
              "            <div>\n",
              "                <p><b>SparkSession - in-memory</b></p>\n",
              "                \n",
              "        <div>\n",
              "            <p><b>SparkContext</b></p>\n",
              "\n",
              "            <p><a href=\"http://e5d520411119:4040\">Spark UI</a></p>\n",
              "\n",
              "            <dl>\n",
              "              <dt>Version</dt>\n",
              "                <dd><code>v3.5.4</code></dd>\n",
              "              <dt>Master</dt>\n",
              "                <dd><code>local[*]</code></dd>\n",
              "              <dt>AppName</dt>\n",
              "                <dd><code>student-data</code></dd>\n",
              "            </dl>\n",
              "        </div>\n",
              "        \n",
              "            </div>\n",
              "        "
            ]
          },
          "metadata": {},
          "execution_count": 13
        }
      ]
    },
    {
      "cell_type": "code",
      "source": [
        "student_df = spark.read.csv(\"/content/drive/MyDrive/Data/student-data.csv\", inferSchema=True, header=True)"
      ],
      "metadata": {
        "id": "b60FuLVg22f3"
      },
      "execution_count": null,
      "outputs": []
    },
    {
      "cell_type": "markdown",
      "source": [
        "Simple EDA of Data"
      ],
      "metadata": {
        "id": "CCIq697d33Bi"
      }
    },
    {
      "cell_type": "code",
      "source": [
        "# print the data\n",
        "student_df.show()"
      ],
      "metadata": {
        "colab": {
          "base_uri": "https://localhost:8080/"
        },
        "id": "x6U3vlcl31g6",
        "outputId": "47b3c872-1f46-4f1c-a284-a419784eb44d"
      },
      "execution_count": null,
      "outputs": [
        {
          "output_type": "stream",
          "name": "stdout",
          "text": [
            "+-------+------+-----+-----------+\n",
            "|   Name|Gender|Class|Total_Marks|\n",
            "+-------+------+-----+-----------+\n",
            "|  Alice|Female|   10|        450|\n",
            "|    Bob|  Male|   12|        480|\n",
            "|Charlie|  Male|   11|        470|\n",
            "|  Diana|Female|   10|        490|\n",
            "|    Eve|Female|   12|        430|\n",
            "|  Frank|  Male|   11|        400|\n",
            "|  Grace|Female|   10|        460|\n",
            "|  Henry|  Male|   12|        420|\n",
            "|  Irene|Female|   11|        480|\n",
            "|   Jack|  Male|   10|        440|\n",
            "|  Kevin|  Male|   12|        500|\n",
            "|  Laura|Female|   11|        470|\n",
            "|   Mike|  Male|   10|        410|\n",
            "|  Nancy|Female|   12|        450|\n",
            "| Oliver|  Male|   11|        470|\n",
            "|  Paula|Female|   10|        490|\n",
            "|Quentin|  Male|   12|        480|\n",
            "| Rachel|Female|   11|        460|\n",
            "|  Steve|  Male|   10|        400|\n",
            "|   Tina|Female|   12|        470|\n",
            "+-------+------+-----+-----------+\n",
            "\n"
          ]
        }
      ]
    },
    {
      "cell_type": "code",
      "source": [
        "#Gives summary regarding the types of data\n",
        "student_df.describe()"
      ],
      "metadata": {
        "colab": {
          "base_uri": "https://localhost:8080/"
        },
        "id": "v7dU6D1H3-UQ",
        "outputId": "5b53c20e-eed3-488f-ff64-5174223f2fad"
      },
      "execution_count": null,
      "outputs": [
        {
          "output_type": "execute_result",
          "data": {
            "text/plain": [
              "DataFrame[summary: string, Name: string, Gender: string, Class: string, Total_Marks: string]"
            ]
          },
          "metadata": {},
          "execution_count": 18
        }
      ]
    },
    {
      "cell_type": "code",
      "source": [
        "student_df.printSchema() # print the structure of schema"
      ],
      "metadata": {
        "colab": {
          "base_uri": "https://localhost:8080/"
        },
        "id": "Nbcd53VZ4CCo",
        "outputId": "47a17177-b79e-4848-8f9c-6e83635699b1"
      },
      "execution_count": null,
      "outputs": [
        {
          "output_type": "stream",
          "name": "stdout",
          "text": [
            "root\n",
            " |-- Name: string (nullable = true)\n",
            " |-- Gender: string (nullable = true)\n",
            " |-- Class: integer (nullable = true)\n",
            " |-- Total_Marks: integer (nullable = true)\n",
            "\n"
          ]
        }
      ]
    },
    {
      "cell_type": "code",
      "source": [
        "student_df.columns"
      ],
      "metadata": {
        "colab": {
          "base_uri": "https://localhost:8080/"
        },
        "id": "eaky2t2U4PRD",
        "outputId": "7ef34b80-6bb0-45dc-e2b5-a5880489bb34"
      },
      "execution_count": null,
      "outputs": [
        {
          "output_type": "execute_result",
          "data": {
            "text/plain": [
              "['Name', 'Gender', 'Class', 'Total_Marks']"
            ]
          },
          "metadata": {},
          "execution_count": 21
        }
      ]
    },
    {
      "cell_type": "code",
      "source": [
        "student_df.show()"
      ],
      "metadata": {
        "colab": {
          "base_uri": "https://localhost:8080/"
        },
        "id": "5X35TLIy4k7u",
        "outputId": "ec041ad9-05a4-46d5-be41-3090b1f23a45"
      },
      "execution_count": null,
      "outputs": [
        {
          "output_type": "stream",
          "name": "stdout",
          "text": [
            "+-------+------+-----+-----------+\n",
            "|   Name|Gender|Class|Total_Marks|\n",
            "+-------+------+-----+-----------+\n",
            "|  Alice|Female|   10|        450|\n",
            "|    Bob|  Male|   12|        480|\n",
            "|Charlie|  Male|   11|        470|\n",
            "|  Diana|Female|   10|        490|\n",
            "|    Eve|Female|   12|        430|\n",
            "|  Frank|  Male|   11|        400|\n",
            "|  Grace|Female|   10|        460|\n",
            "|  Henry|  Male|   12|        420|\n",
            "|  Irene|Female|   11|        480|\n",
            "|   Jack|  Male|   10|        440|\n",
            "|  Kevin|  Male|   12|        500|\n",
            "|  Laura|Female|   11|        470|\n",
            "|   Mike|  Male|   10|        410|\n",
            "|  Nancy|Female|   12|        450|\n",
            "| Oliver|  Male|   11|        470|\n",
            "|  Paula|Female|   10|        490|\n",
            "|Quentin|  Male|   12|        480|\n",
            "| Rachel|Female|   11|        460|\n",
            "|  Steve|  Male|   10|        400|\n",
            "|   Tina|Female|   12|        470|\n",
            "+-------+------+-----+-----------+\n",
            "\n"
          ]
        }
      ]
    },
    {
      "cell_type": "markdown",
      "source": [
        "Q1. Calculate the total marks obtained by students in each class."
      ],
      "metadata": {
        "id": "19IePvZg1_2h"
      }
    },
    {
      "cell_type": "code",
      "execution_count": null,
      "metadata": {
        "colab": {
          "base_uri": "https://localhost:8080/"
        },
        "id": "WMHZmQHj1g2a",
        "outputId": "412a06f4-9e1f-49e7-ca3e-f649a242a753"
      },
      "outputs": [
        {
          "output_type": "stream",
          "name": "stdout",
          "text": [
            "+-----+----------------+\n",
            "|Class|sum(Total_Marks)|\n",
            "+-----+----------------+\n",
            "|   12|            3230|\n",
            "|   10|            3140|\n",
            "|   11|            2750|\n",
            "+-----+----------------+\n",
            "\n"
          ]
        }
      ],
      "source": [
        "classwise_total_marks = student_df.groupBy('Class').sum('Total_Marks').show()"
      ]
    },
    {
      "cell_type": "markdown",
      "source": [
        "Q2. Find the average marks of students by gender.\n"
      ],
      "metadata": {
        "id": "6nOGWE435P4t"
      }
    },
    {
      "cell_type": "code",
      "source": [
        "student_df.groupBy('Gender').avg('Total_Marks').show()"
      ],
      "metadata": {
        "colab": {
          "base_uri": "https://localhost:8080/"
        },
        "id": "z9RklhgT4vJD",
        "outputId": "559c9723-1a02-41b5-daf3-be45114ac027"
      },
      "execution_count": null,
      "outputs": [
        {
          "output_type": "stream",
          "name": "stdout",
          "text": [
            "+------+----------------+\n",
            "|Gender|avg(Total_Marks)|\n",
            "+------+----------------+\n",
            "|Female|           465.0|\n",
            "|  Male|           447.0|\n",
            "+------+----------------+\n",
            "\n"
          ]
        }
      ]
    },
    {
      "cell_type": "markdown",
      "source": [],
      "metadata": {
        "id": "NyCS7ubA5hwc"
      }
    },
    {
      "cell_type": "markdown",
      "source": [
        "Q3. Identify the highest marks scored in each class."
      ],
      "metadata": {
        "id": "WwrTviqp5p27"
      }
    },
    {
      "cell_type": "code",
      "source": [
        "student_df.groupBy('Class').max('Total_Marks').show()"
      ],
      "metadata": {
        "colab": {
          "base_uri": "https://localhost:8080/"
        },
        "id": "hWfaSNA85eIy",
        "outputId": "5639951e-6132-4afe-ffba-e8bbd7e9cc8d"
      },
      "execution_count": null,
      "outputs": [
        {
          "output_type": "stream",
          "name": "stdout",
          "text": [
            "+-----+----------------+\n",
            "|Class|max(Total_Marks)|\n",
            "+-----+----------------+\n",
            "|   12|             500|\n",
            "|   10|             490|\n",
            "|   11|             480|\n",
            "+-----+----------------+\n",
            "\n"
          ]
        }
      ]
    },
    {
      "cell_type": "markdown",
      "source": [
        "Q4. Find the lowest marks scored by students in each gender category."
      ],
      "metadata": {
        "id": "3vjXGuOv5whp"
      }
    },
    {
      "cell_type": "code",
      "source": [
        "student_df.groupBy('Gender').min('Total_Marks').show()"
      ],
      "metadata": {
        "colab": {
          "base_uri": "https://localhost:8080/"
        },
        "id": "qjHGz1K-5sCq",
        "outputId": "845a5b8b-d306-4b0e-d304-2fb470ccf14a"
      },
      "execution_count": null,
      "outputs": [
        {
          "output_type": "stream",
          "name": "stdout",
          "text": [
            "+------+----------------+\n",
            "|Gender|min(Total_Marks)|\n",
            "+------+----------------+\n",
            "|Female|             430|\n",
            "|  Male|             400|\n",
            "+------+----------------+\n",
            "\n"
          ]
        }
      ]
    },
    {
      "cell_type": "markdown",
      "source": [
        "Q5. Count the number of students in each class."
      ],
      "metadata": {
        "id": "BA5uQZ9G596Y"
      }
    },
    {
      "cell_type": "code",
      "source": [
        "student_df.groupBy('Class').count().show()"
      ],
      "metadata": {
        "colab": {
          "base_uri": "https://localhost:8080/"
        },
        "id": "9vAR9Ovb57Nv",
        "outputId": "1a47e3ed-cbd9-4d50-f776-a55638d6d3d7"
      },
      "execution_count": null,
      "outputs": [
        {
          "output_type": "stream",
          "name": "stdout",
          "text": [
            "+-----+-----+\n",
            "|Class|count|\n",
            "+-----+-----+\n",
            "|   12|    7|\n",
            "|   10|    7|\n",
            "|   11|    6|\n",
            "+-----+-----+\n",
            "\n"
          ]
        }
      ]
    },
    {
      "cell_type": "markdown",
      "source": [
        "Q6. Calculate the total marks by both gender and class."
      ],
      "metadata": {
        "id": "6WgZuLwH6Trh"
      }
    },
    {
      "cell_type": "code",
      "source": [
        "student_df.groupBy(['Gender','Class']).sum('Total_Marks').show()"
      ],
      "metadata": {
        "colab": {
          "base_uri": "https://localhost:8080/"
        },
        "id": "4Kf0ng-_6EDP",
        "outputId": "37352636-0ada-4145-d378-dc0a357f892a"
      },
      "execution_count": null,
      "outputs": [
        {
          "output_type": "stream",
          "name": "stdout",
          "text": [
            "+------+-----+----------------+\n",
            "|Gender|Class|sum(Total_Marks)|\n",
            "+------+-----+----------------+\n",
            "|Female|   10|            1890|\n",
            "|Female|   11|            1410|\n",
            "|Female|   12|            1350|\n",
            "|  Male|   12|            1880|\n",
            "|  Male|   11|            1340|\n",
            "|  Male|   10|            1250|\n",
            "+------+-----+----------------+\n",
            "\n"
          ]
        }
      ]
    },
    {
      "cell_type": "markdown",
      "source": [
        "Q7. Calculate the total, average, and maximum marks for each class in one query."
      ],
      "metadata": {
        "id": "vLJGyj3x617n"
      }
    },
    {
      "cell_type": "code",
      "source": [
        "from pyspark.sql.functions import sum , avg , max\n",
        "student_df.groupBy('Class').agg(\n",
        "    sum('Total_Marks').alias('Sum'),\n",
        "    avg('Total_Marks').alias('Avgerage'),\n",
        "    max('Total_Marks').alias('Maximum'),\n",
        ").show()"
      ],
      "metadata": {
        "colab": {
          "base_uri": "https://localhost:8080/"
        },
        "id": "MU_6urqT6VTw",
        "outputId": "a8110789-eada-42a8-8b8e-0b681a613522"
      },
      "execution_count": null,
      "outputs": [
        {
          "output_type": "stream",
          "name": "stdout",
          "text": [
            "+-----+----+------------------+-------+\n",
            "|Class| Sum|          Avgerage|Maximum|\n",
            "+-----+----+------------------+-------+\n",
            "|   12|3230|461.42857142857144|    500|\n",
            "|   10|3140|448.57142857142856|    490|\n",
            "|   11|2750| 458.3333333333333|    480|\n",
            "+-----+----+------------------+-------+\n",
            "\n"
          ]
        }
      ]
    },
    {
      "cell_type": "markdown",
      "source": [
        "Q8. Find the classes where the total marks exceed 2000"
      ],
      "metadata": {
        "id": "ghZrg-HX7-AV"
      }
    },
    {
      "cell_type": "code",
      "source": [
        "student_df.groupBy('Class').agg(sum('Total_Marks').alias('Sum')).filter('Sum > 3000').show()"
      ],
      "metadata": {
        "colab": {
          "base_uri": "https://localhost:8080/"
        },
        "id": "y7MMvnfI-HD6",
        "outputId": "d171608d-ea46-48d4-dc53-f40f68be90c4"
      },
      "execution_count": null,
      "outputs": [
        {
          "output_type": "stream",
          "name": "stdout",
          "text": [
            "+-----+----+\n",
            "|Class| Sum|\n",
            "+-----+----+\n",
            "|   12|3230|\n",
            "|   10|3140|\n",
            "+-----+----+\n",
            "\n"
          ]
        }
      ]
    },
    {
      "cell_type": "markdown",
      "source": [
        "Q9. Calculate the total marks across all students."
      ],
      "metadata": {
        "id": "Ds9TdlBr-yrD"
      }
    },
    {
      "cell_type": "code",
      "source": [
        "student_df.agg({'Total_Marks' : 'sum'}).alias('total marks across all students').show()"
      ],
      "metadata": {
        "colab": {
          "base_uri": "https://localhost:8080/"
        },
        "id": "4PEvDhyI9vqI",
        "outputId": "9be8a95b-9818-4a4b-aef4-28491a1ccd62"
      },
      "execution_count": null,
      "outputs": [
        {
          "output_type": "stream",
          "name": "stdout",
          "text": [
            "+----------------+\n",
            "|sum(Total_Marks)|\n",
            "+----------------+\n",
            "|            9120|\n",
            "+----------------+\n",
            "\n"
          ]
        }
      ]
    },
    {
      "cell_type": "markdown",
      "source": [
        "Q10. Find the genders where the average marks are greater than 450."
      ],
      "metadata": {
        "id": "OHNrBuky_Qm1"
      }
    },
    {
      "cell_type": "code",
      "source": [
        "student_df.groupBy('Gender').agg(avg('Total_Marks').alias('Average')).filter('Average > 450').show()"
      ],
      "metadata": {
        "colab": {
          "base_uri": "https://localhost:8080/"
        },
        "id": "d56p5liu_Ckv",
        "outputId": "51b70432-ab37-43bd-e08a-451a469ad161"
      },
      "execution_count": null,
      "outputs": [
        {
          "output_type": "stream",
          "name": "stdout",
          "text": [
            "+------+-------+\n",
            "|Gender|Average|\n",
            "+------+-------+\n",
            "|Female|  465.0|\n",
            "+------+-------+\n",
            "\n"
          ]
        }
      ]
    },
    {
      "cell_type": "markdown",
      "source": [
        "11. Calculate the average, minimum, and maximum marks for each combination of gender and class."
      ],
      "metadata": {
        "id": "2p7n0zjB_suk"
      }
    },
    {
      "cell_type": "code",
      "source": [
        "from pyspark.sql.functions import min , max\n",
        "student_df.groupBy(['Gender', 'Class']).agg(\n",
        "    avg('Total_Marks').alias('Average'),\n",
        "    min('Total_Marks').alias('Minimum'),\n",
        "    max('Total_Marks').alias('Maximum')\n",
        ").show()"
      ],
      "metadata": {
        "colab": {
          "base_uri": "https://localhost:8080/"
        },
        "id": "H3DMoyKZ_ieC",
        "outputId": "ea31d423-47e3-4dd5-b092-c11494061e63"
      },
      "execution_count": null,
      "outputs": [
        {
          "output_type": "stream",
          "name": "stdout",
          "text": [
            "+------+-----+-----------------+-------+-------+\n",
            "|Gender|Class|          Average|Minimum|Maximum|\n",
            "+------+-----+-----------------+-------+-------+\n",
            "|Female|   10|            472.5|    450|    490|\n",
            "|Female|   11|            470.0|    460|    480|\n",
            "|Female|   12|            450.0|    430|    470|\n",
            "|  Male|   12|            470.0|    420|    500|\n",
            "|  Male|   11|446.6666666666667|    400|    470|\n",
            "|  Male|   10|416.6666666666667|    400|    440|\n",
            "+------+-----+-----------------+-------+-------+\n",
            "\n"
          ]
        }
      ]
    },
    {
      "cell_type": "markdown",
      "source": [
        "12. Identify classes where fewer than 5 students are enrolled."
      ],
      "metadata": {
        "id": "Wn3LCb7uAgGl"
      }
    },
    {
      "cell_type": "code",
      "source": [
        "from pyspark.sql.functions import count\n",
        "student_df.groupBy('Class').agg(\n",
        "    count('Name').alias('total_student_per_class')\n",
        ").filter('total_student_per_class < 7').show()"
      ],
      "metadata": {
        "colab": {
          "base_uri": "https://localhost:8080/"
        },
        "id": "-s70g-hwABKB",
        "outputId": "52ef9835-581a-4a70-c006-e9d48ac14ecc"
      },
      "execution_count": null,
      "outputs": [
        {
          "output_type": "stream",
          "name": "stdout",
          "text": [
            "+-----+-----------------------+\n",
            "|Class|total_student_per_class|\n",
            "+-----+-----------------------+\n",
            "|   11|                      6|\n",
            "+-----+-----------------------+\n",
            "\n"
          ]
        }
      ]
    },
    {
      "cell_type": "markdown",
      "source": [
        "Q13.Determine the number of students in each gender-category within each class.\n"
      ],
      "metadata": {
        "id": "LKFj8HOGBI97"
      }
    },
    {
      "cell_type": "code",
      "source": [
        "student_df.groupBy('Class').agg({'Gender' : 'count'}).show()"
      ],
      "metadata": {
        "colab": {
          "base_uri": "https://localhost:8080/"
        },
        "id": "um6C5CNPA6sQ",
        "outputId": "306b5d0b-b3ea-4d84-93e0-f12d0a24a99c"
      },
      "execution_count": null,
      "outputs": [
        {
          "output_type": "stream",
          "name": "stdout",
          "text": [
            "+-----+-------------+\n",
            "|Class|count(Gender)|\n",
            "+-----+-------------+\n",
            "|   12|            7|\n",
            "|   10|            7|\n",
            "|   11|            6|\n",
            "+-----+-------------+\n",
            "\n"
          ]
        }
      ]
    },
    {
      "cell_type": "markdown",
      "source": [
        "Q14. Find the maximum marks scored by any student in each gender-class combination."
      ],
      "metadata": {
        "id": "UXRZWyrBBmRm"
      }
    },
    {
      "cell_type": "code",
      "source": [
        "max_marks = student_df.groupBy(['Gender', 'Class']).agg({'Total_Marks':'max'}).alias('max_marks')\n",
        "result = student_df.join(max_marks, (student_df['Gender'] == max_marks['Gender']) & (student_df['Class'] == max_marks['Class']), 'inner')"
      ],
      "metadata": {
        "id": "WPAwG-YjBfuo"
      },
      "execution_count": null,
      "outputs": []
    },
    {
      "cell_type": "code",
      "source": [
        "result.show()"
      ],
      "metadata": {
        "colab": {
          "base_uri": "https://localhost:8080/"
        },
        "id": "foARcHlHGtvb",
        "outputId": "a5ff744f-4cfe-4f03-b5ea-5168c1aa7648"
      },
      "execution_count": null,
      "outputs": [
        {
          "output_type": "stream",
          "name": "stdout",
          "text": [
            "+-------+------+-----+-----------+------+-----+----------------+\n",
            "|   Name|Gender|Class|Total_Marks|Gender|Class|max(Total_Marks)|\n",
            "+-------+------+-----+-----------+------+-----+----------------+\n",
            "|  Alice|Female|   10|        450|Female|   10|             490|\n",
            "|    Bob|  Male|   12|        480|  Male|   12|             500|\n",
            "|Charlie|  Male|   11|        470|  Male|   11|             470|\n",
            "|  Diana|Female|   10|        490|Female|   10|             490|\n",
            "|    Eve|Female|   12|        430|Female|   12|             470|\n",
            "|  Frank|  Male|   11|        400|  Male|   11|             470|\n",
            "|  Grace|Female|   10|        460|Female|   10|             490|\n",
            "|  Henry|  Male|   12|        420|  Male|   12|             500|\n",
            "|  Irene|Female|   11|        480|Female|   11|             480|\n",
            "|   Jack|  Male|   10|        440|  Male|   10|             440|\n",
            "|  Kevin|  Male|   12|        500|  Male|   12|             500|\n",
            "|  Laura|Female|   11|        470|Female|   11|             480|\n",
            "|   Mike|  Male|   10|        410|  Male|   10|             440|\n",
            "|  Nancy|Female|   12|        450|Female|   12|             470|\n",
            "| Oliver|  Male|   11|        470|  Male|   11|             470|\n",
            "|  Paula|Female|   10|        490|Female|   10|             490|\n",
            "|Quentin|  Male|   12|        480|  Male|   12|             500|\n",
            "| Rachel|Female|   11|        460|Female|   11|             480|\n",
            "|  Steve|  Male|   10|        400|  Male|   10|             440|\n",
            "|   Tina|Female|   12|        470|Female|   12|             470|\n",
            "+-------+------+-----+-----------+------+-----+----------------+\n",
            "\n"
          ]
        }
      ]
    },
    {
      "cell_type": "markdown",
      "source": [
        "Q15. Calculate the percentage of total marks for each class compared to the overall total marks."
      ],
      "metadata": {
        "id": "97HQBvvfHpC2"
      }
    },
    {
      "cell_type": "code",
      "source": [
        "#Q15. Calculate the percentage of total marks for each class compared to the overall total marks.\n",
        "student_df = student_df.withColumn('Total_Marks', student_df['Total_Marks'].cast('int'))\n",
        "total_marks_per_class = student_df.groupBy('Class').agg(sum('Total_Marks').alias('Total_Marks_Per_Class'))\n",
        "overall_total_marks = total_marks_per_class.agg(sum('Total_Marks_Per_Class').alias('Overall_Total_Marks')).collect()[0]['Overall_Total_Marks']\n",
        "final_result = total_marks_per_class.withColumn('Percentage', (total_marks_per_class['Total_Marks_Per_Class'] / overall_total_marks) * 100)\n",
        "final_result.show()"
      ],
      "metadata": {
        "colab": {
          "base_uri": "https://localhost:8080/"
        },
        "id": "ezN1Ey-KHuCe",
        "outputId": "d4967562-ca45-4328-a646-888a1edddc8e"
      },
      "execution_count": null,
      "outputs": [
        {
          "output_type": "stream",
          "name": "stdout",
          "text": [
            "+-----+---------------------+------------------+\n",
            "|Class|Total_Marks_Per_Class|        Percentage|\n",
            "+-----+---------------------+------------------+\n",
            "|   12|                 3230| 35.41666666666667|\n",
            "|   10|                 3140| 34.42982456140351|\n",
            "|   11|                 2750|30.153508771929825|\n",
            "+-----+---------------------+------------------+\n",
            "\n"
          ]
        }
      ]
    },
    {
      "cell_type": "code",
      "source": [],
      "metadata": {
        "id": "Q-0Hj2zCIAcu"
      },
      "execution_count": null,
      "outputs": []
    }
  ]
}